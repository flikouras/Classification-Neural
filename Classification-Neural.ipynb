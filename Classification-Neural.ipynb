{
 "cells": [
  {
   "cell_type": "code",
   "execution_count": 1,
   "metadata": {},
   "outputs": [],
   "source": [
    "import pandas as pd\n",
    "from sklearn.preprocessing import StandardScaler, LabelEncoder\n",
    "from sklearn.model_selection import train_test_split\n",
    "from collections import Counter\n",
    "from sklearn.compose import ColumnTransformer\n",
    "from tensorflow.keras.models import Sequential\n",
    "from tensorflow.keras.layers import Dense, InputLayer\n",
    "from sklearn.metrics import classification_report\n",
    "from tensorflow.keras.utils import to_categorical\n",
    "import numpy as np"
   ]
  },
  {
   "cell_type": "code",
   "execution_count": 2,
   "metadata": {},
   "outputs": [],
   "source": [
    "data = pd.read_csv(\"heart_failure_clinical_records_dataset.csv\")\n",
    "# print(data.head())\n",
    "# print(data.info())\n",
    "# print(data.describe())"
   ]
  },
  {
   "cell_type": "code",
   "execution_count": 3,
   "metadata": {},
   "outputs": [
    {
     "name": "stdout",
     "output_type": "stream",
     "text": [
      "Classes and number of values in the dataset Counter({0: 203, 1: 96})\n"
     ]
    }
   ],
   "source": [
    "print('Classes and number of values in the dataset',Counter(data['DEATH_EVENT']))"
   ]
  },
  {
   "cell_type": "code",
   "execution_count": 4,
   "metadata": {},
   "outputs": [],
   "source": [
    "#Separating the label column\n",
    "y = data.iloc[:,-1]\n",
    "x = data.iloc[:,:-1]\n",
    "\n",
    "x = pd.get_dummies(x)"
   ]
  },
  {
   "cell_type": "code",
   "execution_count": 5,
   "metadata": {},
   "outputs": [],
   "source": [
    "X_train,X_test,Y_train,Y_test = train_test_split(x,y,test_size = 0.2,random_state = 1)\n",
    "\n",
    "ct = ColumnTransformer([('numeric',StandardScaler(),['age','creatinine_phosphokinase','ejection_fraction','platelets','serum_creatinine','serum_sodium','time'])])\n",
    "\n",
    "X_train = ct.fit_transform(X_train)\n",
    "X_test = ct.transform(X_test)"
   ]
  },
  {
   "cell_type": "code",
   "execution_count": 6,
   "metadata": {},
   "outputs": [],
   "source": [
    "le = LabelEncoder()\n",
    "\n",
    "Y_train = le.fit_transform(Y_train.astype(str))\n",
    "Y_test = le.transform(Y_test.astype(str))"
   ]
  },
  {
   "cell_type": "code",
   "execution_count": 7,
   "metadata": {},
   "outputs": [],
   "source": [
    "Y_train = to_categorical(Y_train)\n",
    "Y_test = to_categorical(Y_test)\n"
   ]
  },
  {
   "cell_type": "code",
   "execution_count": 8,
   "metadata": {},
   "outputs": [],
   "source": [
    "#Initializing the model\n",
    "model = Sequential()\n",
    "\n",
    "model.add(InputLayer(input_shape = (X_train.shape[1],)))\n",
    "model.add(Dense(12,activation = 'relu'))\n",
    "model.add(Dense(2,activation = 'softmax'))\n",
    "\n",
    "model.compile(loss = 'categorical_crossentropy',optimizer = 'adam', metrics = ['accuracy'])\n"
   ]
  },
  {
   "cell_type": "code",
   "execution_count": 9,
   "metadata": {},
   "outputs": [
    {
     "name": "stdout",
     "output_type": "stream",
     "text": [
      "Epoch 1/100\n",
      "15/15 [==============================] - 1s 4ms/step - loss: 0.8775 - accuracy: 0.4770\n",
      "Epoch 2/100\n",
      "15/15 [==============================] - 0s 3ms/step - loss: 0.8423 - accuracy: 0.5021\n",
      "Epoch 3/100\n",
      "15/15 [==============================] - 0s 3ms/step - loss: 0.8086 - accuracy: 0.5188\n",
      "Epoch 4/100\n",
      "15/15 [==============================] - 0s 3ms/step - loss: 0.7755 - accuracy: 0.5607\n",
      "Epoch 5/100\n",
      "15/15 [==============================] - 0s 3ms/step - loss: 0.7479 - accuracy: 0.5900\n",
      "Epoch 6/100\n",
      "15/15 [==============================] - 0s 2ms/step - loss: 0.7207 - accuracy: 0.6360\n",
      "Epoch 7/100\n",
      "15/15 [==============================] - 0s 2ms/step - loss: 0.6964 - accuracy: 0.6653\n",
      "Epoch 8/100\n",
      "15/15 [==============================] - 0s 3ms/step - loss: 0.6717 - accuracy: 0.6946\n",
      "Epoch 9/100\n",
      "15/15 [==============================] - 0s 3ms/step - loss: 0.6514 - accuracy: 0.6862\n",
      "Epoch 10/100\n",
      "15/15 [==============================] - 0s 3ms/step - loss: 0.6290 - accuracy: 0.6904\n",
      "Epoch 11/100\n",
      "15/15 [==============================] - 0s 2ms/step - loss: 0.6090 - accuracy: 0.6987\n",
      "Epoch 12/100\n",
      "15/15 [==============================] - 0s 2ms/step - loss: 0.5907 - accuracy: 0.7238\n",
      "Epoch 13/100\n",
      "15/15 [==============================] - 0s 2ms/step - loss: 0.5718 - accuracy: 0.7322\n",
      "Epoch 14/100\n",
      "15/15 [==============================] - 0s 2ms/step - loss: 0.5561 - accuracy: 0.7322\n",
      "Epoch 15/100\n",
      "15/15 [==============================] - 0s 2ms/step - loss: 0.5397 - accuracy: 0.7406\n",
      "Epoch 16/100\n",
      "15/15 [==============================] - 0s 2ms/step - loss: 0.5259 - accuracy: 0.7490\n",
      "Epoch 17/100\n",
      "15/15 [==============================] - 0s 2ms/step - loss: 0.5119 - accuracy: 0.7573\n",
      "Epoch 18/100\n",
      "15/15 [==============================] - 0s 3ms/step - loss: 0.4991 - accuracy: 0.7615\n",
      "Epoch 19/100\n",
      "15/15 [==============================] - 0s 2ms/step - loss: 0.4870 - accuracy: 0.7741\n",
      "Epoch 20/100\n",
      "15/15 [==============================] - 0s 3ms/step - loss: 0.4777 - accuracy: 0.7657\n",
      "Epoch 21/100\n",
      "15/15 [==============================] - 0s 2ms/step - loss: 0.4668 - accuracy: 0.7824\n",
      "Epoch 22/100\n",
      "15/15 [==============================] - 0s 2ms/step - loss: 0.4582 - accuracy: 0.7908\n",
      "Epoch 23/100\n",
      "15/15 [==============================] - 0s 2ms/step - loss: 0.4492 - accuracy: 0.7866\n",
      "Epoch 24/100\n",
      "15/15 [==============================] - 0s 2ms/step - loss: 0.4415 - accuracy: 0.7908\n",
      "Epoch 25/100\n",
      "15/15 [==============================] - 0s 2ms/step - loss: 0.4356 - accuracy: 0.7908\n",
      "Epoch 26/100\n",
      "15/15 [==============================] - 0s 2ms/step - loss: 0.4280 - accuracy: 0.7908\n",
      "Epoch 27/100\n",
      "15/15 [==============================] - 0s 2ms/step - loss: 0.4219 - accuracy: 0.8033\n",
      "Epoch 28/100\n",
      "15/15 [==============================] - 0s 3ms/step - loss: 0.4164 - accuracy: 0.8117\n",
      "Epoch 29/100\n",
      "15/15 [==============================] - 0s 2ms/step - loss: 0.4111 - accuracy: 0.8243\n",
      "Epoch 30/100\n",
      "15/15 [==============================] - 0s 2ms/step - loss: 0.4067 - accuracy: 0.8285\n",
      "Epoch 31/100\n",
      "15/15 [==============================] - 0s 2ms/step - loss: 0.4024 - accuracy: 0.8285\n",
      "Epoch 32/100\n",
      "15/15 [==============================] - 0s 3ms/step - loss: 0.3989 - accuracy: 0.8285\n",
      "Epoch 33/100\n",
      "15/15 [==============================] - 0s 2ms/step - loss: 0.3950 - accuracy: 0.8285\n",
      "Epoch 34/100\n",
      "15/15 [==============================] - 0s 2ms/step - loss: 0.3920 - accuracy: 0.8243\n",
      "Epoch 35/100\n",
      "15/15 [==============================] - 0s 2ms/step - loss: 0.3892 - accuracy: 0.8243\n",
      "Epoch 36/100\n",
      "15/15 [==============================] - 0s 2ms/step - loss: 0.3860 - accuracy: 0.8243\n",
      "Epoch 37/100\n",
      "15/15 [==============================] - 0s 2ms/step - loss: 0.3833 - accuracy: 0.8285\n",
      "Epoch 38/100\n",
      "15/15 [==============================] - 0s 2ms/step - loss: 0.3814 - accuracy: 0.8368\n",
      "Epoch 39/100\n",
      "15/15 [==============================] - 0s 2ms/step - loss: 0.3790 - accuracy: 0.8410\n",
      "Epoch 40/100\n",
      "15/15 [==============================] - 0s 2ms/step - loss: 0.3774 - accuracy: 0.8410\n",
      "Epoch 41/100\n",
      "15/15 [==============================] - 0s 2ms/step - loss: 0.3754 - accuracy: 0.8410\n",
      "Epoch 42/100\n",
      "15/15 [==============================] - 0s 2ms/step - loss: 0.3734 - accuracy: 0.8452\n",
      "Epoch 43/100\n",
      "15/15 [==============================] - 0s 2ms/step - loss: 0.3716 - accuracy: 0.8494\n",
      "Epoch 44/100\n",
      "15/15 [==============================] - 0s 2ms/step - loss: 0.3700 - accuracy: 0.8494\n",
      "Epoch 45/100\n",
      "15/15 [==============================] - 0s 2ms/step - loss: 0.3685 - accuracy: 0.8536\n",
      "Epoch 46/100\n",
      "15/15 [==============================] - 0s 3ms/step - loss: 0.3669 - accuracy: 0.8494\n",
      "Epoch 47/100\n",
      "15/15 [==============================] - 0s 2ms/step - loss: 0.3659 - accuracy: 0.8494\n",
      "Epoch 48/100\n",
      "15/15 [==============================] - 0s 3ms/step - loss: 0.3645 - accuracy: 0.8452\n",
      "Epoch 49/100\n",
      "15/15 [==============================] - 0s 2ms/step - loss: 0.3637 - accuracy: 0.8452\n",
      "Epoch 50/100\n",
      "15/15 [==============================] - 0s 2ms/step - loss: 0.3627 - accuracy: 0.8410\n",
      "Epoch 51/100\n",
      "15/15 [==============================] - 0s 2ms/step - loss: 0.3615 - accuracy: 0.8410\n",
      "Epoch 52/100\n",
      "15/15 [==============================] - 0s 2ms/step - loss: 0.3606 - accuracy: 0.8368\n",
      "Epoch 53/100\n",
      "15/15 [==============================] - 0s 2ms/step - loss: 0.3593 - accuracy: 0.8368\n",
      "Epoch 54/100\n",
      "15/15 [==============================] - 0s 2ms/step - loss: 0.3590 - accuracy: 0.8368\n",
      "Epoch 55/100\n",
      "15/15 [==============================] - 0s 2ms/step - loss: 0.3581 - accuracy: 0.8410\n",
      "Epoch 56/100\n",
      "15/15 [==============================] - 0s 2ms/step - loss: 0.3565 - accuracy: 0.8410\n",
      "Epoch 57/100\n",
      "15/15 [==============================] - 0s 2ms/step - loss: 0.3562 - accuracy: 0.8368\n",
      "Epoch 58/100\n",
      "15/15 [==============================] - 0s 3ms/step - loss: 0.3557 - accuracy: 0.8368\n",
      "Epoch 59/100\n",
      "15/15 [==============================] - 0s 3ms/step - loss: 0.3548 - accuracy: 0.8368\n",
      "Epoch 60/100\n",
      "15/15 [==============================] - 0s 3ms/step - loss: 0.3539 - accuracy: 0.8410\n",
      "Epoch 61/100\n",
      "15/15 [==============================] - 0s 2ms/step - loss: 0.3535 - accuracy: 0.8368\n",
      "Epoch 62/100\n",
      "15/15 [==============================] - 0s 2ms/step - loss: 0.3524 - accuracy: 0.8410\n",
      "Epoch 63/100\n",
      "15/15 [==============================] - 0s 2ms/step - loss: 0.3518 - accuracy: 0.8368\n",
      "Epoch 64/100\n",
      "15/15 [==============================] - 0s 2ms/step - loss: 0.3513 - accuracy: 0.8410\n",
      "Epoch 65/100\n",
      "15/15 [==============================] - 0s 2ms/step - loss: 0.3512 - accuracy: 0.8368\n",
      "Epoch 66/100\n",
      "15/15 [==============================] - 0s 2ms/step - loss: 0.3497 - accuracy: 0.8368\n",
      "Epoch 67/100\n",
      "15/15 [==============================] - 0s 2ms/step - loss: 0.3495 - accuracy: 0.8326\n",
      "Epoch 68/100\n",
      "15/15 [==============================] - 0s 2ms/step - loss: 0.3487 - accuracy: 0.8410\n",
      "Epoch 69/100\n",
      "15/15 [==============================] - 0s 3ms/step - loss: 0.3482 - accuracy: 0.8410\n",
      "Epoch 70/100\n",
      "15/15 [==============================] - 0s 3ms/step - loss: 0.3478 - accuracy: 0.8368\n",
      "Epoch 71/100\n",
      "15/15 [==============================] - 0s 2ms/step - loss: 0.3472 - accuracy: 0.8410\n",
      "Epoch 72/100\n",
      "15/15 [==============================] - 0s 2ms/step - loss: 0.3465 - accuracy: 0.8410\n",
      "Epoch 73/100\n",
      "15/15 [==============================] - 0s 2ms/step - loss: 0.3469 - accuracy: 0.8410\n",
      "Epoch 74/100\n",
      "15/15 [==============================] - 0s 2ms/step - loss: 0.3454 - accuracy: 0.8452\n",
      "Epoch 75/100\n",
      "15/15 [==============================] - 0s 2ms/step - loss: 0.3451 - accuracy: 0.8410\n",
      "Epoch 76/100\n",
      "15/15 [==============================] - 0s 2ms/step - loss: 0.3447 - accuracy: 0.8368\n",
      "Epoch 77/100\n",
      "15/15 [==============================] - 0s 3ms/step - loss: 0.3441 - accuracy: 0.8368\n",
      "Epoch 78/100\n",
      "15/15 [==============================] - 0s 2ms/step - loss: 0.3439 - accuracy: 0.8452\n",
      "Epoch 79/100\n",
      "15/15 [==============================] - 0s 2ms/step - loss: 0.3432 - accuracy: 0.8452\n",
      "Epoch 80/100\n",
      "15/15 [==============================] - 0s 3ms/step - loss: 0.3430 - accuracy: 0.8410\n",
      "Epoch 81/100\n",
      "15/15 [==============================] - 0s 2ms/step - loss: 0.3425 - accuracy: 0.8410\n",
      "Epoch 82/100\n",
      "15/15 [==============================] - 0s 2ms/step - loss: 0.3418 - accuracy: 0.8410\n",
      "Epoch 83/100\n"
     ]
    },
    {
     "name": "stdout",
     "output_type": "stream",
     "text": [
      "15/15 [==============================] - 0s 2ms/step - loss: 0.3414 - accuracy: 0.8410\n",
      "Epoch 84/100\n",
      "15/15 [==============================] - 0s 3ms/step - loss: 0.3411 - accuracy: 0.8410\n",
      "Epoch 85/100\n",
      "15/15 [==============================] - 0s 2ms/step - loss: 0.3405 - accuracy: 0.8410\n",
      "Epoch 86/100\n",
      "15/15 [==============================] - 0s 2ms/step - loss: 0.3405 - accuracy: 0.8410\n",
      "Epoch 87/100\n",
      "15/15 [==============================] - 0s 2ms/step - loss: 0.3400 - accuracy: 0.8452\n",
      "Epoch 88/100\n",
      "15/15 [==============================] - 0s 2ms/step - loss: 0.3393 - accuracy: 0.8452\n",
      "Epoch 89/100\n",
      "15/15 [==============================] - 0s 2ms/step - loss: 0.3388 - accuracy: 0.8452\n",
      "Epoch 90/100\n",
      "15/15 [==============================] - 0s 2ms/step - loss: 0.3385 - accuracy: 0.8452\n",
      "Epoch 91/100\n",
      "15/15 [==============================] - 0s 2ms/step - loss: 0.3382 - accuracy: 0.8410\n",
      "Epoch 92/100\n",
      "15/15 [==============================] - 0s 2ms/step - loss: 0.3378 - accuracy: 0.8410\n",
      "Epoch 93/100\n",
      "15/15 [==============================] - 0s 2ms/step - loss: 0.3376 - accuracy: 0.8410\n",
      "Epoch 94/100\n",
      "15/15 [==============================] - 0s 2ms/step - loss: 0.3374 - accuracy: 0.8410\n",
      "Epoch 95/100\n",
      "15/15 [==============================] - 0s 2ms/step - loss: 0.3364 - accuracy: 0.8452\n",
      "Epoch 96/100\n",
      "15/15 [==============================] - 0s 2ms/step - loss: 0.3361 - accuracy: 0.8410\n",
      "Epoch 97/100\n",
      "15/15 [==============================] - 0s 2ms/step - loss: 0.3361 - accuracy: 0.8410\n",
      "Epoch 98/100\n",
      "15/15 [==============================] - 0s 2ms/step - loss: 0.3355 - accuracy: 0.8452\n",
      "Epoch 99/100\n",
      "15/15 [==============================] - 0s 2ms/step - loss: 0.3353 - accuracy: 0.8452\n",
      "Epoch 100/100\n",
      "15/15 [==============================] - 0s 2ms/step - loss: 0.3352 - accuracy: 0.8410\n"
     ]
    }
   ],
   "source": [
    "model.fit(X_train,Y_train,epochs = 100,batch_size = 16,verbose = 1)\n",
    "\n"
   ]
  },
  {
   "cell_type": "code",
   "execution_count": 11,
   "metadata": {},
   "outputs": [
    {
     "name": "stdout",
     "output_type": "stream",
     "text": [
      "Loss 0.2819599211215973 Accuracy: 0.8833333253860474\n"
     ]
    }
   ],
   "source": [
    "loss,acc = model.evaluate(X_test,Y_test,verbose = 0)\n",
    "print(\"Loss\", loss, \"Accuracy:\", acc)\n"
   ]
  },
  {
   "cell_type": "code",
   "execution_count": 13,
   "metadata": {},
   "outputs": [
    {
     "name": "stdout",
     "output_type": "stream",
     "text": [
      "              precision    recall  f1-score   support\n",
      "\n",
      "           0       0.95      0.89      0.92        46\n",
      "           1       0.71      0.86      0.77        14\n",
      "\n",
      "    accuracy                           0.88        60\n",
      "   macro avg       0.83      0.87      0.85        60\n",
      "weighted avg       0.90      0.88      0.89        60\n",
      "\n"
     ]
    }
   ],
   "source": [
    "y_estimate = model.predict(X_test,verbose = 0)\n",
    "\n",
    "y_estimate = np.argmax(y_estimate,axis = 1)\n",
    "y_true = np.argmax(Y_test,axis = 1)\n",
    "\n",
    "print(classification_report(y_true,y_estimate))"
   ]
  }
 ],
 "metadata": {
  "kernelspec": {
   "display_name": "Python 3",
   "language": "python",
   "name": "python3"
  },
  "language_info": {
   "codemirror_mode": {
    "name": "ipython",
    "version": 3
   },
   "file_extension": ".py",
   "mimetype": "text/x-python",
   "name": "python",
   "nbconvert_exporter": "python",
   "pygments_lexer": "ipython3",
   "version": "3.8.3"
  }
 },
 "nbformat": 4,
 "nbformat_minor": 4
}
